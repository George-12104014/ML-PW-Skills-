{
 "cells": [
  {
   "cell_type": "code",
   "execution_count": null,
   "id": "ce48cc96-17ca-4a20-b644-36ed8e7cea58",
   "metadata": {},
   "outputs": [],
   "source": [
    "                                Answer to the Question.no.01"
   ]
  },
  {
   "cell_type": "code",
   "execution_count": 1,
   "id": "92118129-c207-4d85-b83c-cbee2c3ad9c1",
   "metadata": {},
   "outputs": [],
   "source": [
    "Tuple1=[('Sachin Tendulkar',34357),('Ricky Ponting',27483),('Jack Kallis',25534),('Virat Kohli',24936)]"
   ]
  },
  {
   "cell_type": "code",
   "execution_count": 58,
   "id": "5135baab-5c37-40da-8c32-386e872d56bf",
   "metadata": {},
   "outputs": [
    {
     "name": "stdout",
     "output_type": "stream",
     "text": [
      "[('Virat Kohli', 24936), ('Jack Kallis', 25534), ('Ricky Ponting', 27483), ('Sachin Tendulkar', 34357)]\n"
     ]
    }
   ],
   "source": [
    "data = [('Sachin Tendulkar', 34357), ('Ricky Ponting', 27483), ('Jack Kallis', 25534), ('Virat Kohli', 24936)]\n",
    "\n",
    "sorted_data = sorted(data, key=lambda x: x[1])\n",
    "\n",
    "print(sorted_data)\n"
   ]
  },
  {
   "cell_type": "code",
   "execution_count": null,
   "id": "7c4db8fa-4192-48c0-b76d-00ce907f785a",
   "metadata": {},
   "outputs": [],
   "source": [
    "                               Answer to the Question.no.02"
   ]
  },
  {
   "cell_type": "code",
   "execution_count": 31,
   "id": "440f394f-00da-4abd-959c-78361c1902e4",
   "metadata": {},
   "outputs": [],
   "source": [
    "L2=[1,2,3,4,5,6,7,8,9,10]"
   ]
  },
  {
   "cell_type": "code",
   "execution_count": 32,
   "id": "0fbe37cc-53d6-4666-b6e0-20a3bd117e01",
   "metadata": {},
   "outputs": [
    {
     "data": {
      "text/plain": [
       "[1, 4, 9, 16, 25, 36, 49, 64, 81, 100]"
      ]
     },
     "execution_count": 32,
     "metadata": {},
     "output_type": "execute_result"
    }
   ],
   "source": [
    "list(map(lambda x:x**2,L2))"
   ]
  },
  {
   "cell_type": "code",
   "execution_count": null,
   "id": "b4433364-4fc8-4d80-9f7f-e81925301ba1",
   "metadata": {},
   "outputs": [],
   "source": [
    "                               Answer to the Question.no.03"
   ]
  },
  {
   "cell_type": "code",
   "execution_count": 33,
   "id": "abce758b-07a7-4a66-8547-2430735b89af",
   "metadata": {},
   "outputs": [],
   "source": [
    "L3=[1,2,3,4,5,6,7,8,9,10]"
   ]
  },
  {
   "cell_type": "code",
   "execution_count": 34,
   "id": "eb620ef3-5ae3-461f-8392-d70c93b2ca44",
   "metadata": {},
   "outputs": [
    {
     "data": {
      "text/plain": [
       "('1', '2', '3', '4', '5', '6', '7', '8', '9', '10')"
      ]
     },
     "execution_count": 34,
     "metadata": {},
     "output_type": "execute_result"
    }
   ],
   "source": [
    "tuple(map(lambda x:str(x),L3))"
   ]
  },
  {
   "cell_type": "code",
   "execution_count": null,
   "id": "34849214-7bf4-4444-a4d4-44b9cab38f91",
   "metadata": {},
   "outputs": [],
   "source": [
    "                               Answer to the Question.no.04"
   ]
  },
  {
   "cell_type": "code",
   "execution_count": 35,
   "id": "e2af0a04-8722-4845-9dfc-93c1d766650d",
   "metadata": {},
   "outputs": [],
   "source": [
    "from functools import reduce"
   ]
  },
  {
   "cell_type": "code",
   "execution_count": 36,
   "id": "8df547c9-b638-4158-8c73-86b4656843c0",
   "metadata": {},
   "outputs": [],
   "source": [
    "L4=list(range(1,26))"
   ]
  },
  {
   "cell_type": "code",
   "execution_count": 42,
   "id": "3942a7d7-3ec5-4194-90f0-c26bc3883dfb",
   "metadata": {},
   "outputs": [
    {
     "data": {
      "text/plain": [
       "15511210043330985984000000"
      ]
     },
     "execution_count": 42,
     "metadata": {},
     "output_type": "execute_result"
    }
   ],
   "source": [
    "reduce(lambda x,y: x*y ,L4)"
   ]
  },
  {
   "cell_type": "code",
   "execution_count": null,
   "id": "3b664284-76f9-43f9-8ce2-b65d99081049",
   "metadata": {},
   "outputs": [],
   "source": [
    "                               Answer to the Question.no.05"
   ]
  },
  {
   "cell_type": "code",
   "execution_count": 43,
   "id": "66dd1b00-0915-4a86-bace-6c2a9415b3de",
   "metadata": {},
   "outputs": [],
   "source": [
    "L5=[2,3,6,9,27,60,90,120,55,46]"
   ]
  },
  {
   "cell_type": "code",
   "execution_count": 45,
   "id": "422ae679-8b6e-47be-ba05-a717f9110da1",
   "metadata": {},
   "outputs": [
    {
     "data": {
      "text/plain": [
       "[6, 60, 90, 120]"
      ]
     },
     "execution_count": 45,
     "metadata": {},
     "output_type": "execute_result"
    }
   ],
   "source": [
    "list(filter(lambda x: x%2==0 and x%3==0,L5))"
   ]
  },
  {
   "cell_type": "code",
   "execution_count": null,
   "id": "b5ba3853-2229-4a6f-a155-37c9c9577420",
   "metadata": {},
   "outputs": [],
   "source": [
    "                               Answer to the Question.no.06"
   ]
  },
  {
   "cell_type": "code",
   "execution_count": 46,
   "id": "35cadf22-986f-4206-abcd-a08ae0842333",
   "metadata": {},
   "outputs": [],
   "source": [
    "L6=['python','php','aba','radar','level']"
   ]
  },
  {
   "cell_type": "code",
   "execution_count": 48,
   "id": "128ad693-ec72-43ba-b8bb-f6f1976abb76",
   "metadata": {},
   "outputs": [
    {
     "data": {
      "text/plain": [
       "['php', 'aba', 'radar', 'level']"
      ]
     },
     "execution_count": 48,
     "metadata": {},
     "output_type": "execute_result"
    }
   ],
   "source": [
    "list(filter(lambda x: x==x[::-1],L6))"
   ]
  },
  {
   "cell_type": "code",
   "execution_count": null,
   "id": "7f6df165-ebb0-405e-a8ec-c609317ad2a8",
   "metadata": {},
   "outputs": [],
   "source": []
  }
 ],
 "metadata": {
  "kernelspec": {
   "display_name": "Python 3 (ipykernel)",
   "language": "python",
   "name": "python3"
  },
  "language_info": {
   "codemirror_mode": {
    "name": "ipython",
    "version": 3
   },
   "file_extension": ".py",
   "mimetype": "text/x-python",
   "name": "python",
   "nbconvert_exporter": "python",
   "pygments_lexer": "ipython3",
   "version": "3.10.8"
  }
 },
 "nbformat": 4,
 "nbformat_minor": 5
}
