{
 "cells": [
  {
   "cell_type": "code",
   "execution_count": null,
   "id": "87d33e35-f592-4633-82df-a00529f7dd63",
   "metadata": {},
   "outputs": [],
   "source": [
    "                            ANSWER TO THE QUESTION.NO.01"
   ]
  },
  {
   "cell_type": "code",
   "execution_count": 13,
   "id": "05f47f0c-92d0-4704-a8cc-41fc6cbdc804",
   "metadata": {},
   "outputs": [
    {
     "data": {
      "text/plain": [
       "range(1, 25)"
      ]
     },
     "execution_count": 13,
     "metadata": {},
     "output_type": "execute_result"
    }
   ],
   "source": [
    "#def keyword is used to creat function.\n",
    "range(1,25)"
   ]
  },
  {
   "cell_type": "code",
   "execution_count": 19,
   "id": "52aaf086-9962-436b-90d3-7f4837dc24d7",
   "metadata": {},
   "outputs": [],
   "source": [
    "def type44(x):\n",
    "    for i in x:\n",
    "        if i%2==0:\n",
    "            print(i)"
   ]
  },
  {
   "cell_type": "code",
   "execution_count": 21,
   "id": "89e96891-624b-472d-9f7b-00fe08411062",
   "metadata": {},
   "outputs": [
    {
     "name": "stdout",
     "output_type": "stream",
     "text": [
      "2\n",
      "4\n",
      "6\n",
      "8\n",
      "10\n",
      "12\n",
      "14\n",
      "16\n",
      "18\n",
      "20\n",
      "22\n",
      "24\n"
     ]
    }
   ],
   "source": [
    "type44(range(1,25))"
   ]
  },
  {
   "cell_type": "code",
   "execution_count": null,
   "id": "447a1f86-a878-4323-8630-cb59cfb5457f",
   "metadata": {},
   "outputs": [],
   "source": [
    "                            ANSWER TO THE QUESTION.NO.02"
   ]
  },
  {
   "cell_type": "code",
   "execution_count": null,
   "id": "11165977-7dc0-48f5-83af-cbd6b509c98b",
   "metadata": {},
   "outputs": [],
   "source": [
    "In Python, `*args` and `**kwargs` are special syntaxes used in function definitions to handle variable-length arguments. They allow you to pass an arbitrary number of positional arguments (`*args`) and keyword arguments (`**kwargs`) to a function. The names `args` and `kwargs` are not mandatory; you can use any valid variable names preceded by a single asterisk (`*`) for `args` and two asterisks (`**`) for `kwargs`.\n",
    "\n",
    "Here's a brief explanation of each:\n",
    "\n",
    "1. `*args` (Arbitrary Positional Arguments):\n",
    "   - The `*args` syntax allows a function to accept any number of positional arguments.\n",
    "   - When you use `*args` in a function definition, it collects any extra positional arguments provided during the function call into a tuple.\n",
    "   - This is useful when you want to pass a variable number of arguments to a function without having to specify them one by one.\n",
    "\n",
    "Example:\n",
    "\n",
    "```python\n",
    "def print_args(*args):\n",
    "    for arg in args:\n",
    "        print(arg)\n",
    "\n",
    "print_args(1, 2, 3, \"hello\")\n",
    "# Output:\n",
    "# 1\n",
    "# 2\n",
    "# 3\n",
    "# hello\n",
    "```\n",
    "\n",
    "2. `**kwargs` (Arbitrary Keyword Arguments):\n",
    "   - The `**kwargs` syntax allows a function to accept any number of keyword arguments.\n",
    "   - When you use `**kwargs` in a function definition, it collects any extra keyword arguments provided during the function call into a dictionary, where the keys are the argument names, and the values are the corresponding argument values.\n",
    "   - This is useful when you want to pass a variable number of keyword arguments to a function without having to specify them one by one.\n",
    "\n",
    "Example:\n",
    "\n",
    "```python\n",
    "def print_kwargs(**kwargs):\n",
    "    for key, value in kwargs.items():\n",
    "        print(f\"{key}: {value}\")\n",
    "\n",
    "print_kwargs(a=1, b=2, c=\"hello\")\n",
    "# Output:\n",
    "# a: 1\n",
    "# b: 2\n",
    "# c: hello\n",
    "```\n",
    "\n",
    "Combining `*args` and `**kwargs` in a function definition allows the function to accept both fixed arguments, variable-length positional arguments, and variable-length keyword arguments.\n",
    "\n",
    "Example:\n",
    "\n",
    "```python\n",
    "def example_function(arg1, arg2, *args, **kwargs):\n",
    "    print(f\"arg1: {arg1}\")\n",
    "    print(f\"arg2: {arg2}\")\n",
    "    print(f\"args: {args}\")\n",
    "    print(f\"kwargs: {kwargs}\")\n",
    "\n",
    "example_function(\"fixed\", \"arguments\", 1, 2, 3, a=10, b=20)\n",
    "# Output:\n",
    "# arg1: fixed\n",
    "# arg2: arguments\n",
    "# args: (1, 2, 3)\n",
    "# kwargs: {'a': 10, 'b': 20}\n",
    "```\n",
    "\n",
    "Using `*args` and `**kwargs` provides flexibility and makes your functions more versatile, allowing them to handle various types of input arguments."
   ]
  },
  {
   "cell_type": "code",
   "execution_count": 1,
   "id": "ce5912f0-147a-4d82-b74e-1f65cb25c610",
   "metadata": {},
   "outputs": [],
   "source": [
    "def type1(*args):\n",
    "    return(args)"
   ]
  },
  {
   "cell_type": "code",
   "execution_count": 2,
   "id": "979c2014-5a1f-4967-a015-e631bf47e35e",
   "metadata": {},
   "outputs": [
    {
     "data": {
      "text/plain": [
       "(1, 2, 3, 4, 5, 6, 'GPD', 'KGF', 'OCD')"
      ]
     },
     "execution_count": 2,
     "metadata": {},
     "output_type": "execute_result"
    }
   ],
   "source": [
    "type1(1,2,3,4,5,6,\"GPD\",\"KGF\",\"OCD\")"
   ]
  },
  {
   "cell_type": "code",
   "execution_count": 5,
   "id": "658cfc33-3dbe-45ba-af3f-581fff87fcd4",
   "metadata": {},
   "outputs": [],
   "source": [
    "def type2(**kargs):\n",
    "    return(kargs)"
   ]
  },
  {
   "cell_type": "code",
   "execution_count": 6,
   "id": "998adcb5-55cd-4a84-bbd1-fb641031477b",
   "metadata": {},
   "outputs": [
    {
     "data": {
      "text/plain": [
       "{'a': 1, 'b': 2, 'c': 3, 'd': 4}"
      ]
     },
     "execution_count": 6,
     "metadata": {},
     "output_type": "execute_result"
    }
   ],
   "source": [
    "type2(a=1,b=2,c=3,d=4)"
   ]
  },
  {
   "cell_type": "code",
   "execution_count": null,
   "id": "4f4bae4d-74ca-4511-844c-a3698e26f8ae",
   "metadata": {},
   "outputs": [],
   "source": [
    "                            ANSWER TO THE QUESTION.NO.03"
   ]
  },
  {
   "cell_type": "code",
   "execution_count": null,
   "id": "d24f003d-24e4-4165-8c87-08f7300b3a2b",
   "metadata": {},
   "outputs": [],
   "source": [
    "In Python, an iterator is an object that enables you to loop over a collection of elements one at a time without having to know the underlying structure of the collection. It provides two essential methods: `__iter__()` to obtain the iterator object itself and `__next__()` to retrieve the next element in the collection. When there are no more elements to return, the iterator raises a `StopIteration` exception, signaling the end of the iteration. The `for` loop in Python uses iterators to traverse sequences like lists, tuples, strings, etc., making it a powerful and convenient tool for iteration."
   ]
  },
  {
   "cell_type": "code",
   "execution_count": null,
   "id": "f65ad3f4-2b8b-4f77-9ea0-43e3c6f758b0",
   "metadata": {},
   "outputs": [],
   "source": [
    "In Python, to initialize an iterator object, you use the `iter()` method. It takes a collection (such as a list, tuple, or string) as an argument and returns an iterator object.\n",
    "\n",
    "To perform iteration and retrieve the next element from the iterator, you use the `next()` method. It calls the `__next__()` method on the iterator object, returning the next element in the sequence. When there are no more elements to iterate over, it raises a `StopIteration` exception, indicating the end of the iteration."
   ]
  },
  {
   "cell_type": "code",
   "execution_count": 7,
   "id": "47a44715-66f7-4d81-a9e6-628ea0b076a9",
   "metadata": {},
   "outputs": [],
   "source": [
    "l1=[2,4,6,8,10,12,14,16,18,20]"
   ]
  },
  {
   "cell_type": "code",
   "execution_count": 8,
   "id": "cf4a8cd2-eb99-4861-9da8-8aa36f909805",
   "metadata": {},
   "outputs": [],
   "source": [
    "p=iter(l1)"
   ]
  },
  {
   "cell_type": "code",
   "execution_count": 9,
   "id": "e2a59c03-3446-4a66-a08c-395c6c6dc6e9",
   "metadata": {},
   "outputs": [
    {
     "data": {
      "text/plain": [
       "2"
      ]
     },
     "execution_count": 9,
     "metadata": {},
     "output_type": "execute_result"
    }
   ],
   "source": [
    "next(p)"
   ]
  },
  {
   "cell_type": "code",
   "execution_count": 10,
   "id": "2ca4bc93-f515-4e43-9fe9-3d1db1f1244b",
   "metadata": {},
   "outputs": [
    {
     "data": {
      "text/plain": [
       "4"
      ]
     },
     "execution_count": 10,
     "metadata": {},
     "output_type": "execute_result"
    }
   ],
   "source": [
    "next(p)"
   ]
  },
  {
   "cell_type": "code",
   "execution_count": 11,
   "id": "c8b3a20d-86df-40dc-8bf0-9e04ccf0047c",
   "metadata": {},
   "outputs": [
    {
     "data": {
      "text/plain": [
       "6"
      ]
     },
     "execution_count": 11,
     "metadata": {},
     "output_type": "execute_result"
    }
   ],
   "source": [
    "next(p)"
   ]
  },
  {
   "cell_type": "code",
   "execution_count": 12,
   "id": "dd703b1a-e0af-44cc-99db-3e16ac6833bf",
   "metadata": {},
   "outputs": [
    {
     "data": {
      "text/plain": [
       "8"
      ]
     },
     "execution_count": 12,
     "metadata": {},
     "output_type": "execute_result"
    }
   ],
   "source": [
    "next(p)"
   ]
  },
  {
   "cell_type": "code",
   "execution_count": 13,
   "id": "d0283f42-e454-402a-b0fc-da71ec8ff798",
   "metadata": {},
   "outputs": [
    {
     "data": {
      "text/plain": [
       "10"
      ]
     },
     "execution_count": 13,
     "metadata": {},
     "output_type": "execute_result"
    }
   ],
   "source": [
    "next(p)"
   ]
  },
  {
   "cell_type": "code",
   "execution_count": null,
   "id": "02eaaf5b-6e67-4a58-8be1-46a8cbeaed97",
   "metadata": {},
   "outputs": [],
   "source": [
    "                            ANSWER TO THE QUESTION.NO.04"
   ]
  },
  {
   "cell_type": "code",
   "execution_count": null,
   "id": "615d7061-e6e9-4195-9a34-a9e0bf3b4abb",
   "metadata": {},
   "outputs": [],
   "source": [
    "In Python, a generator function is a special type of function that uses the `yield` keyword to produce a sequence of values one at a time. Unlike regular functions that use `return` to return a single value and terminate, generator functions can yield multiple values over time while preserving their execution state.\n",
    "\n",
    "When you call a generator function, it doesn't execute the entire function body immediately. Instead, it returns a generator object, which acts as an iterator. Each time you call the `next()` method on the generator object, the function execution resumes from where it left off, and it continues to run until it hits a `yield` statement. At that point, the value specified after `yield` is returned, and the function's state is frozen until the next `next()` call.\n",
    "\n",
    "The `yield` keyword is used to produce values from the generator function without terminating its execution. This means that generator functions can produce an indefinite sequence of values, making them memory-efficient for working with large or infinite data streams. The generator object only keeps track of its current state, and each value is generated on-the-fly when requested through the `next()` method.\n",
    "\n",
    "Here's an example of a generator function that generates the squares of numbers from 1 to n:\n",
    "\n",
    "```python\n",
    "def square_generator(n):\n",
    "    for i in range(1, n + 1):\n",
    "        yield i * i\n",
    "\n",
    "# Using the generator function to get squares\n",
    "gen = square_generator(5)\n",
    "print(next(gen))  # Output: 1\n",
    "print(next(gen))  # Output: 4\n",
    "print(next(gen))  # Output: 9\n",
    "print(next(gen))  # Output: 16\n",
    "print(next(gen))  # Output: 25\n",
    "```\n",
    "\n",
    "In this example, the generator function `square_generator()` calculates the square of each number in the range from 1 to n and yields the results one by one. When we call `next(gen)`, it returns the next squared value until there are no more values left to yield."
   ]
  },
  {
   "cell_type": "code",
   "execution_count": 35,
   "id": "92984a3c-c862-4283-b36d-949b08907671",
   "metadata": {},
   "outputs": [],
   "source": [
    "def type2(n):\n",
    "    a,b=0,1\n",
    "    for i in range(n):\n",
    "        yield a\n",
    "        a,b=b,a+b"
   ]
  },
  {
   "cell_type": "code",
   "execution_count": 36,
   "id": "28823872-9be9-4e08-a77a-acc2cea6c3c5",
   "metadata": {},
   "outputs": [
    {
     "name": "stdout",
     "output_type": "stream",
     "text": [
      "0\n",
      "1\n",
      "1\n",
      "2\n",
      "3\n",
      "5\n",
      "8\n",
      "13\n",
      "21\n",
      "34\n"
     ]
    }
   ],
   "source": [
    "for i in type2(10):\n",
    "    print(i)\n"
   ]
  },
  {
   "cell_type": "code",
   "execution_count": 22,
   "id": "41eb2c1b-912e-4e98-b180-55ff91d76a86",
   "metadata": {},
   "outputs": [],
   "source": [
    "                            ANSWER TO THE QUESTION.NO.05"
   ]
  },
  {
   "cell_type": "code",
   "execution_count": null,
   "id": "c65c294d-c8ec-4e16-bf09-f577db2cc103",
   "metadata": {},
   "outputs": [],
   "source": [
    "                            ANSWER TO THE QUESTION.NO.06"
   ]
  },
  {
   "cell_type": "code",
   "execution_count": 43,
   "id": "f75ced43-4117-426d-9df5-3ec954787004",
   "metadata": {},
   "outputs": [],
   "source": [
    "def type3():\n",
    "    a,b=0,1\n",
    "    while True:\n",
    "        yield a\n",
    "        a,b=b,a+b"
   ]
  },
  {
   "cell_type": "code",
   "execution_count": 44,
   "id": "093ece84-feb4-43f5-a56e-5e7a50bebaa7",
   "metadata": {},
   "outputs": [],
   "source": [
    "c=type3()"
   ]
  },
  {
   "cell_type": "code",
   "execution_count": 45,
   "id": "15df764f-5920-4a83-9ab4-f305f6802979",
   "metadata": {},
   "outputs": [
    {
     "name": "stdout",
     "output_type": "stream",
     "text": [
      "0\n",
      "1\n",
      "1\n",
      "2\n",
      "3\n",
      "5\n",
      "8\n",
      "13\n",
      "21\n",
      "34\n"
     ]
    }
   ],
   "source": [
    "for i in range(10):\n",
    "    print(next(c))"
   ]
  },
  {
   "cell_type": "code",
   "execution_count": null,
   "id": "97c2b4f9-7d5b-426e-adc0-4ca60d5926b1",
   "metadata": {},
   "outputs": [],
   "source": [
    "                             ANSWER TO THE QUESTION.NO.07"
   ]
  },
  {
   "cell_type": "code",
   "execution_count": 2,
   "id": "2fee25c9-8330-4ac9-aafc-478c1b20ab9b",
   "metadata": {},
   "outputs": [],
   "source": [
    "L1='pwskills'"
   ]
  },
  {
   "cell_type": "code",
   "execution_count": 3,
   "id": "bbdfbe37-74e6-4c1c-b2e2-bc50242e9756",
   "metadata": {},
   "outputs": [],
   "source": [
    "L2=iter(L1)"
   ]
  },
  {
   "cell_type": "code",
   "execution_count": 4,
   "id": "bd5accb2-6e36-4181-b3cd-dda667701b47",
   "metadata": {},
   "outputs": [
    {
     "data": {
      "text/plain": [
       "'p'"
      ]
     },
     "execution_count": 4,
     "metadata": {},
     "output_type": "execute_result"
    }
   ],
   "source": [
    "next(L2)"
   ]
  },
  {
   "cell_type": "code",
   "execution_count": 5,
   "id": "33ce2bf6-61a9-434c-a1aa-b57513706e4b",
   "metadata": {},
   "outputs": [
    {
     "data": {
      "text/plain": [
       "'w'"
      ]
     },
     "execution_count": 5,
     "metadata": {},
     "output_type": "execute_result"
    }
   ],
   "source": [
    "next(L2)"
   ]
  },
  {
   "cell_type": "code",
   "execution_count": 6,
   "id": "528f3294-26e9-459d-baf9-943fc7868803",
   "metadata": {},
   "outputs": [
    {
     "data": {
      "text/plain": [
       "'s'"
      ]
     },
     "execution_count": 6,
     "metadata": {},
     "output_type": "execute_result"
    }
   ],
   "source": [
    "next(L2)"
   ]
  },
  {
   "cell_type": "code",
   "execution_count": 7,
   "id": "46f28bb3-b96c-4f54-adb7-be4da35f38a5",
   "metadata": {},
   "outputs": [
    {
     "data": {
      "text/plain": [
       "'k'"
      ]
     },
     "execution_count": 7,
     "metadata": {},
     "output_type": "execute_result"
    }
   ],
   "source": [
    "next(L2)"
   ]
  },
  {
   "cell_type": "code",
   "execution_count": 8,
   "id": "b5273069-125c-4925-a70c-0d45fde0e7a7",
   "metadata": {},
   "outputs": [
    {
     "data": {
      "text/plain": [
       "'i'"
      ]
     },
     "execution_count": 8,
     "metadata": {},
     "output_type": "execute_result"
    }
   ],
   "source": [
    "next(L2)"
   ]
  },
  {
   "cell_type": "code",
   "execution_count": 9,
   "id": "ca2eab6e-ac02-4acb-9033-6b84d6a177ae",
   "metadata": {},
   "outputs": [
    {
     "data": {
      "text/plain": [
       "'l'"
      ]
     },
     "execution_count": 9,
     "metadata": {},
     "output_type": "execute_result"
    }
   ],
   "source": [
    "next(L2)"
   ]
  },
  {
   "cell_type": "code",
   "execution_count": 10,
   "id": "303aee04-aa51-4cc1-9b8a-8673f1c6ef55",
   "metadata": {},
   "outputs": [
    {
     "data": {
      "text/plain": [
       "'l'"
      ]
     },
     "execution_count": 10,
     "metadata": {},
     "output_type": "execute_result"
    }
   ],
   "source": [
    "next(L2)"
   ]
  },
  {
   "cell_type": "code",
   "execution_count": 11,
   "id": "d5b7dd49-ae77-485c-b81f-6b2f4569086f",
   "metadata": {},
   "outputs": [
    {
     "data": {
      "text/plain": [
       "'s'"
      ]
     },
     "execution_count": 11,
     "metadata": {},
     "output_type": "execute_result"
    }
   ],
   "source": [
    "next(L2)"
   ]
  },
  {
   "cell_type": "code",
   "execution_count": 12,
   "id": "09f47b18-01b7-4a2c-a57d-aae5dcb57109",
   "metadata": {},
   "outputs": [
    {
     "ename": "StopIteration",
     "evalue": "",
     "output_type": "error",
     "traceback": [
      "\u001b[0;31m---------------------------------------------------------------------------\u001b[0m",
      "\u001b[0;31mStopIteration\u001b[0m                             Traceback (most recent call last)",
      "Cell \u001b[0;32mIn[12], line 1\u001b[0m\n\u001b[0;32m----> 1\u001b[0m \u001b[38;5;28;43mnext\u001b[39;49m\u001b[43m(\u001b[49m\u001b[43mL2\u001b[49m\u001b[43m)\u001b[49m\n",
      "\u001b[0;31mStopIteration\u001b[0m: "
     ]
    }
   ],
   "source": [
    "next(L2)"
   ]
  },
  {
   "cell_type": "code",
   "execution_count": 7,
   "id": "df0c9cf7-ec57-4213-9ced-a52fb6e47550",
   "metadata": {},
   "outputs": [
    {
     "name": "stdin",
     "output_type": "stream",
     "text": [
      "Enter a Number= 123\n"
     ]
    },
    {
     "name": "stdout",
     "output_type": "stream",
     "text": [
      "Not a Palindrome\n"
     ]
    }
   ],
   "source": [
    "                         ## ANSWER TO THE QUESTION.NO.08\n",
    "a=int(input(\"Enter a Number=\"))\n",
    "b=str(a)\n",
    "while True:\n",
    "      if b==str(a)[::-1]:\n",
    "            print(\"Palindrome\")\n",
    "            break\n",
    "      else:\n",
    "            print(\"Not a Palindrome\")\n",
    "            break"
   ]
  },
  {
   "cell_type": "code",
   "execution_count": 2,
   "id": "79dcfccc-d00f-41fd-bcaf-405b8af0144c",
   "metadata": {},
   "outputs": [
    {
     "name": "stdin",
     "output_type": "stream",
     "text": [
      "Enter a Name= rimi\n"
     ]
    },
    {
     "name": "stdout",
     "output_type": "stream",
     "text": [
      "Not a Palindrome\n"
     ]
    }
   ],
   "source": [
    "                         ## ANSWER TO THE QUESTION.NO.08\n",
    "a=str(input(\"Enter a Name=\"))\n",
    "b=str(a)\n",
    "while True:\n",
    "      if b==str(a)[::-1]:\n",
    "            print(\"Palindrome\")\n",
    "            break\n",
    "      else:\n",
    "            print(\"Not a Palindrome\")\n",
    "            break"
   ]
  },
  {
   "cell_type": "code",
   "execution_count": null,
   "id": "010076fb-f0b0-438d-98f8-bfeaaa3e8ffa",
   "metadata": {},
   "outputs": [],
   "source": [
    "                          ANSWER TO THE QUESTION.NO.09"
   ]
  },
  {
   "cell_type": "code",
   "execution_count": 13,
   "id": "e5f326b6-b970-4334-a110-e8d54603420c",
   "metadata": {},
   "outputs": [],
   "source": [
    "L2=list(range(1,100))"
   ]
  },
  {
   "cell_type": "code",
   "execution_count": 14,
   "id": "e23352fb-da3b-4ba9-8678-229618b75673",
   "metadata": {},
   "outputs": [
    {
     "name": "stdout",
     "output_type": "stream",
     "text": [
      "2\n",
      "4\n",
      "6\n",
      "8\n",
      "10\n",
      "12\n",
      "14\n",
      "16\n",
      "18\n",
      "20\n",
      "22\n",
      "24\n",
      "26\n",
      "28\n",
      "30\n",
      "32\n",
      "34\n",
      "36\n",
      "38\n",
      "40\n",
      "42\n",
      "44\n",
      "46\n",
      "48\n",
      "50\n",
      "52\n",
      "54\n",
      "56\n",
      "58\n",
      "60\n",
      "62\n",
      "64\n",
      "66\n",
      "68\n",
      "70\n",
      "72\n",
      "74\n",
      "76\n",
      "78\n",
      "80\n",
      "82\n",
      "84\n",
      "86\n",
      "88\n",
      "90\n",
      "92\n",
      "94\n",
      "96\n",
      "98\n"
     ]
    }
   ],
   "source": [
    "for i in L2:\n",
    "    if i%2==0:\n",
    "        print(i)"
   ]
  },
  {
   "cell_type": "code",
   "execution_count": 28,
   "id": "d47142b8-e52d-4ab5-b733-fadb1c353bc0",
   "metadata": {},
   "outputs": [],
   "source": [
    "r=123454"
   ]
  },
  {
   "cell_type": "code",
   "execution_count": 32,
   "id": "88c11e8a-b07a-41ec-888c-6f4359cd8ea4",
   "metadata": {},
   "outputs": [
    {
     "data": {
      "text/plain": [
       "'454321'"
      ]
     },
     "execution_count": 32,
     "metadata": {},
     "output_type": "execute_result"
    }
   ],
   "source": [
    "str(r)[::-1]"
   ]
  },
  {
   "cell_type": "code",
   "execution_count": null,
   "id": "03585f9f-5644-46ad-9d54-8d223c66992c",
   "metadata": {},
   "outputs": [],
   "source": []
  }
 ],
 "metadata": {
  "kernelspec": {
   "display_name": "Python 3 (ipykernel)",
   "language": "python",
   "name": "python3"
  },
  "language_info": {
   "codemirror_mode": {
    "name": "ipython",
    "version": 3
   },
   "file_extension": ".py",
   "mimetype": "text/x-python",
   "name": "python",
   "nbconvert_exporter": "python",
   "pygments_lexer": "ipython3",
   "version": "3.10.8"
  }
 },
 "nbformat": 4,
 "nbformat_minor": 5
}
