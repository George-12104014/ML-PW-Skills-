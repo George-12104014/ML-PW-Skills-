{
 "cells": [
  {
   "cell_type": "code",
   "execution_count": 33,
   "id": "bcec63d1-98de-4e32-9ff4-dab34d077f2c",
   "metadata": {},
   "outputs": [
    {
     "data": {
      "text/plain": [
       "str"
      ]
     },
     "execution_count": 33,
     "metadata": {},
     "output_type": "execute_result"
    }
   ],
   "source": [
    "#Question-01\n",
    "A='GPD'\n",
    "type(A)"
   ]
  },
  {
   "cell_type": "code",
   "execution_count": 2,
   "id": "ea19bbc1-2a21-424d-8e32-f4b66e62e8fe",
   "metadata": {},
   "outputs": [
    {
     "data": {
      "text/plain": [
       "list"
      ]
     },
     "execution_count": 2,
     "metadata": {},
     "output_type": "execute_result"
    }
   ],
   "source": [
    "L=[3,4,5,35,'CPD',False]\n",
    "type(L)"
   ]
  },
  {
   "cell_type": "code",
   "execution_count": 3,
   "id": "906c22ac-13f3-4889-a51c-39b03060f689",
   "metadata": {},
   "outputs": [
    {
     "data": {
      "text/plain": [
       "float"
      ]
     },
     "execution_count": 3,
     "metadata": {},
     "output_type": "execute_result"
    }
   ],
   "source": [
    "F=3.1416\n",
    "type(F)"
   ]
  },
  {
   "cell_type": "code",
   "execution_count": 4,
   "id": "f78c4a41-33bc-4482-ba99-ee26ea8c1a98",
   "metadata": {},
   "outputs": [
    {
     "data": {
      "text/plain": [
       "tuple"
      ]
     },
     "execution_count": 4,
     "metadata": {},
     "output_type": "execute_result"
    }
   ],
   "source": [
    "T=(4,3,5,6,75,True,\"IronMan\")\n",
    "type(T)"
   ]
  },
  {
   "cell_type": "code",
   "execution_count": 5,
   "id": "91146fe5-552c-43a4-9312-09762d9f2bc7",
   "metadata": {},
   "outputs": [
    {
     "data": {
      "text/plain": [
       "str"
      ]
     },
     "execution_count": 5,
     "metadata": {},
     "output_type": "execute_result"
    }
   ],
   "source": [
    "#Question-02\n",
    "var1=\"\"\n",
    "type(var1)"
   ]
  },
  {
   "cell_type": "code",
   "execution_count": 6,
   "id": "7ec3b63a-d765-4604-8145-3f3e012a0e5b",
   "metadata": {},
   "outputs": [
    {
     "data": {
      "text/plain": [
       "str"
      ]
     },
     "execution_count": 6,
     "metadata": {},
     "output_type": "execute_result"
    }
   ],
   "source": [
    "var2='[DS,ML,Python]'\n",
    "type(var2)"
   ]
  },
  {
   "cell_type": "code",
   "execution_count": 7,
   "id": "8634f8c3-6cee-4c05-acbf-dc15bf94529e",
   "metadata": {},
   "outputs": [
    {
     "data": {
      "text/plain": [
       "list"
      ]
     },
     "execution_count": 7,
     "metadata": {},
     "output_type": "execute_result"
    }
   ],
   "source": [
    "var3=['DS','ML','Python']\n",
    "type(var3)"
   ]
  },
  {
   "cell_type": "code",
   "execution_count": 8,
   "id": "360d81ca-c1d6-4feb-b840-e6647151f8bf",
   "metadata": {},
   "outputs": [
    {
     "data": {
      "text/plain": [
       "int"
      ]
     },
     "execution_count": 8,
     "metadata": {},
     "output_type": "execute_result"
    }
   ],
   "source": [
    "var4=1\n",
    "type(var4)"
   ]
  },
  {
   "cell_type": "code",
   "execution_count": 9,
   "id": "dc6c6785-2ee1-4e8a-93bd-4a4b3a1b2b8d",
   "metadata": {},
   "outputs": [
    {
     "data": {
      "text/plain": [
       "3.0"
      ]
     },
     "execution_count": 9,
     "metadata": {},
     "output_type": "execute_result"
    }
   ],
   "source": [
    "#Question-03\n",
    "15/5"
   ]
  },
  {
   "cell_type": "code",
   "execution_count": 10,
   "id": "828a1c27-e97a-465b-bca1-1c2334320cf3",
   "metadata": {},
   "outputs": [
    {
     "data": {
      "text/plain": [
       "0"
      ]
     },
     "execution_count": 10,
     "metadata": {},
     "output_type": "execute_result"
    }
   ],
   "source": [
    "15%3"
   ]
  },
  {
   "cell_type": "code",
   "execution_count": 11,
   "id": "40ac34d7-3b33-4b82-be5b-b3d7ab67decf",
   "metadata": {},
   "outputs": [
    {
     "data": {
      "text/plain": [
       "4"
      ]
     },
     "execution_count": 11,
     "metadata": {},
     "output_type": "execute_result"
    }
   ],
   "source": [
    "16//4"
   ]
  },
  {
   "cell_type": "code",
   "execution_count": 12,
   "id": "955b3cae-056c-40c1-b84a-95e0107690a9",
   "metadata": {},
   "outputs": [
    {
     "data": {
      "text/plain": [
       "19683"
      ]
     },
     "execution_count": 12,
     "metadata": {},
     "output_type": "execute_result"
    }
   ],
   "source": [
    "3**9"
   ]
  },
  {
   "cell_type": "code",
   "execution_count": 14,
   "id": "bb89a647-ffae-48b0-9407-e5e741a9a11d",
   "metadata": {},
   "outputs": [
    {
     "name": "stdout",
     "output_type": "stream",
     "text": [
      "<class 'int'>\n",
      "3\n",
      "<class 'int'>\n",
      "5\n",
      "<class 'int'>\n",
      "7\n",
      "<class 'int'>\n",
      "4\n",
      "<class 'int'>\n",
      "4\n",
      "<class 'bool'>\n",
      "True\n",
      "<class 'str'>\n",
      "George\n",
      "<class 'bool'>\n",
      "False\n",
      "<class 'str'>\n",
      "Meta\n",
      "<class 'str'>\n",
      "Hollywood\n"
     ]
    }
   ],
   "source": [
    "#Question-04\n",
    "L=[3,5,7,4,4,True,'George',False,'Meta','Hollywood']\n",
    "for i in L:\n",
    "    print(type(i))\n",
    "    print(i)"
   ]
  },
  {
   "cell_type": "code",
   "execution_count": 19,
   "id": "4189e30f-171c-49dd-8dad-deaaaf48af37",
   "metadata": {},
   "outputs": [
    {
     "data": {
      "text/plain": [
       "[0,\n",
       " 1,\n",
       " 2,\n",
       " 3,\n",
       " 4,\n",
       " 5,\n",
       " 6,\n",
       " 7,\n",
       " 8,\n",
       " 9,\n",
       " 10,\n",
       " 11,\n",
       " 12,\n",
       " 13,\n",
       " 14,\n",
       " 15,\n",
       " 16,\n",
       " 17,\n",
       " 18,\n",
       " 19,\n",
       " 20,\n",
       " 21,\n",
       " 22,\n",
       " 23,\n",
       " 24]"
      ]
     },
     "execution_count": 19,
     "metadata": {},
     "output_type": "execute_result"
    }
   ],
   "source": [
    "#Question-06\n",
    "range(25)\n",
    "k=list(range(25))\n",
    "k"
   ]
  },
  {
   "cell_type": "code",
   "execution_count": 27,
   "id": "40a541e8-4526-46c3-90fe-f458d97c57e6",
   "metadata": {},
   "outputs": [
    {
     "name": "stdout",
     "output_type": "stream",
     "text": [
      "It's divisible\n",
      "It's not divisible\n",
      "It's not divisible\n",
      "It's divisible\n",
      "It's not divisible\n",
      "It's not divisible\n",
      "It's divisible\n",
      "It's not divisible\n",
      "It's not divisible\n",
      "It's divisible\n",
      "It's not divisible\n",
      "It's not divisible\n",
      "It's divisible\n",
      "It's not divisible\n",
      "It's not divisible\n",
      "It's divisible\n",
      "It's not divisible\n",
      "It's not divisible\n",
      "It's divisible\n",
      "It's not divisible\n",
      "It's not divisible\n",
      "It's divisible\n",
      "It's not divisible\n",
      "It's not divisible\n",
      "It's divisible\n"
     ]
    }
   ],
   "source": [
    "k=list(range(25))\n",
    "for i in k:\n",
    "    if(i%3==0):\n",
    "        print(\"It's divisible\")\n",
    "    else:\n",
    "        print(\"It's not divisible\")"
   ]
  },
  {
   "cell_type": "code",
   "execution_count": 28,
   "id": "3e943230-a180-43ec-80bb-26b7a6e0c36e",
   "metadata": {},
   "outputs": [
    {
     "data": {
      "text/plain": [
       "[1, 2, 3, True, 'Thor', 'Sherlok']"
      ]
     },
     "execution_count": 28,
     "metadata": {},
     "output_type": "execute_result"
    }
   ],
   "source": [
    "#Question-07\n",
    "#Mutable=Where we can alter data.\n",
    "L=[1,2,3,True,\"Ethan\",\"Sherlok\"]\n",
    "L[4]=\"Thor\"\n",
    "L"
   ]
  },
  {
   "cell_type": "code",
   "execution_count": 30,
   "id": "5e4621aa-c0c7-4824-b439-478d902120e7",
   "metadata": {},
   "outputs": [
    {
     "data": {
      "text/plain": [
       "'o'"
      ]
     },
     "execution_count": 30,
     "metadata": {},
     "output_type": "execute_result"
    }
   ],
   "source": [
    "#Immutable=Where we can not alter data.\n",
    "P=\"George\"\n",
    "P[2]\n"
   ]
  },
  {
   "cell_type": "code",
   "execution_count": 31,
   "id": "a1ee63be-1e03-49de-b782-48415fec9234",
   "metadata": {},
   "outputs": [
    {
     "ename": "TypeError",
     "evalue": "'str' object does not support item assignment",
     "output_type": "error",
     "traceback": [
      "\u001b[0;31m---------------------------------------------------------------------------\u001b[0m",
      "\u001b[0;31mTypeError\u001b[0m                                 Traceback (most recent call last)",
      "Cell \u001b[0;32mIn[31], line 1\u001b[0m\n\u001b[0;32m----> 1\u001b[0m \u001b[43mP\u001b[49m\u001b[43m[\u001b[49m\u001b[38;5;241;43m3\u001b[39;49m\u001b[43m]\u001b[49m\u001b[38;5;241m=\u001b[39m\u001b[38;5;124m\"\u001b[39m\u001b[38;5;124mCPD\u001b[39m\u001b[38;5;124m\"\u001b[39m\n\u001b[1;32m      2\u001b[0m P\n",
      "\u001b[0;31mTypeError\u001b[0m: 'str' object does not support item assignment"
     ]
    }
   ],
   "source": [
    "P[3]=\"CPD\"\n",
    "P"
   ]
  },
  {
   "cell_type": "code",
   "execution_count": null,
   "id": "4fbce55a-55b4-4c64-b550-03fdb974366d",
   "metadata": {},
   "outputs": [],
   "source": []
  }
 ],
 "metadata": {
  "kernelspec": {
   "display_name": "Python 3 (ipykernel)",
   "language": "python",
   "name": "python3"
  },
  "language_info": {
   "codemirror_mode": {
    "name": "ipython",
    "version": 3
   },
   "file_extension": ".py",
   "mimetype": "text/x-python",
   "name": "python",
   "nbconvert_exporter": "python",
   "pygments_lexer": "ipython3",
   "version": "3.10.8"
  }
 },
 "nbformat": 4,
 "nbformat_minor": 5
}
