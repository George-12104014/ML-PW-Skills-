{
 "cells": [
  {
   "cell_type": "code",
   "execution_count": null,
   "id": "04013122-40ea-445c-b4e7-84def5fbf2c0",
   "metadata": {},
   "outputs": [],
   "source": [
    "                    ### \"Answer to the question.no.01\"###"
   ]
  },
  {
   "cell_type": "code",
   "execution_count": 45,
   "id": "aba18a3d-c1a0-41bf-b1eb-a6eec0f54a53",
   "metadata": {},
   "outputs": [],
   "source": [
    "class vehicle:\n",
    "    def __init__(self, name_of_vehicle,max_speed,average_of_vehicle):\n",
    "        self.name_of_vehicle=name_of_vehicle\n",
    "        self.max_speed=max_speed\n",
    "        self.average_of_vehicle=average_of_vehicle"
   ]
  },
  {
   "cell_type": "code",
   "execution_count": 46,
   "id": "0ce89f23-6748-4821-82b9-e76114330070",
   "metadata": {},
   "outputs": [],
   "source": [
    "vehicle1=vehicle('Audi',250,12)"
   ]
  },
  {
   "cell_type": "code",
   "execution_count": 47,
   "id": "0278b2cd-4774-43ff-a56f-0a14b504d602",
   "metadata": {},
   "outputs": [
    {
     "data": {
      "text/plain": [
       "12"
      ]
     },
     "execution_count": 47,
     "metadata": {},
     "output_type": "execute_result"
    }
   ],
   "source": [
    "vehicle1.average_of_vehicle"
   ]
  },
  {
   "cell_type": "code",
   "execution_count": 48,
   "id": "dbf2e9e4-ad18-449a-b98c-dfbd53f2e908",
   "metadata": {},
   "outputs": [
    {
     "data": {
      "text/plain": [
       "250"
      ]
     },
     "execution_count": 48,
     "metadata": {},
     "output_type": "execute_result"
    }
   ],
   "source": [
    "vehicle1.max_speed"
   ]
  },
  {
   "cell_type": "code",
   "execution_count": 49,
   "id": "4b8d4be7-8343-4554-a525-58bcff51be2c",
   "metadata": {},
   "outputs": [
    {
     "data": {
      "text/plain": [
       "'Audi'"
      ]
     },
     "execution_count": 49,
     "metadata": {},
     "output_type": "execute_result"
    }
   ],
   "source": [
    "vehicle1.name_of_vehicle"
   ]
  },
  {
   "cell_type": "code",
   "execution_count": 50,
   "id": "b0918631-586c-4d8b-bbcf-11b69d92d901",
   "metadata": {},
   "outputs": [],
   "source": [
    "                      ### \"Answer to the question.no.02\"###"
   ]
  },
  {
   "cell_type": "code",
   "execution_count": 65,
   "id": "dc1afebe-e14e-41ef-9a50-094e976bf0dc",
   "metadata": {},
   "outputs": [],
   "source": [
    "class car(vehicle):\n",
    "    def name(self):\n",
    "        return self.name_of_vehicle\n",
    "    def __init__(self,seating_capacity):\n",
    "        self.seating_capacity=seating_capacity              "
   ]
  },
  {
   "cell_type": "code",
   "execution_count": 66,
   "id": "6b7e82cd-e95c-409b-a2b0-1c14ea2ac9e1",
   "metadata": {},
   "outputs": [],
   "source": [
    "vehicle1=car(5)"
   ]
  },
  {
   "cell_type": "code",
   "execution_count": 64,
   "id": "c810e2ae-c787-456b-8362-0a93bebd1551",
   "metadata": {},
   "outputs": [
    {
     "data": {
      "text/plain": [
       "5"
      ]
     },
     "execution_count": 64,
     "metadata": {},
     "output_type": "execute_result"
    }
   ],
   "source": [
    "vehicle1.seating_capacity"
   ]
  },
  {
   "cell_type": "code",
   "execution_count": null,
   "id": "fac78274-13d9-4f2c-933e-27b4c0030cae",
   "metadata": {},
   "outputs": [],
   "source": [
    "                      ### \"Answer to the question.no.03\"###"
   ]
  },
  {
   "cell_type": "code",
   "execution_count": null,
   "id": "cf149fad-e41f-4a12-90e2-b80346a8b9ff",
   "metadata": {},
   "outputs": [],
   "source": [
    "###Multiple inheritance in Python refers to a feature of object-oriented programming where a class can inherit attributes and methods from more than one parent class. In other words, a class can be derived from multiple base classes. This allows the derived class to inherit and combine features from multiple sources."
   ]
  },
  {
   "cell_type": "code",
   "execution_count": 77,
   "id": "62e27420-10f5-4606-b84e-6dadb7d59b64",
   "metadata": {},
   "outputs": [],
   "source": [
    "class Simanto:\n",
    "    def Simanto(self):\n",
    "        return \" Simanto is a Friend of Naime with good sense of humor.\""
   ]
  },
  {
   "cell_type": "code",
   "execution_count": 78,
   "id": "1e861833-68da-4f6c-a55c-a4f23bcd3cd1",
   "metadata": {},
   "outputs": [],
   "source": [
    "class Priyodorshon:\n",
    "    def Priyodorshon(self):\n",
    "        return \" Priyodorshon is a Friend of Naime with good sense of Fashion.\""
   ]
  },
  {
   "cell_type": "code",
   "execution_count": 79,
   "id": "261b2f21-c72e-4618-9eaf-04138636eb8d",
   "metadata": {},
   "outputs": [],
   "source": [
    "class Naime(Simanto,Priyodorshon):\n",
    "    def relation(self):\n",
    "        return \"They both are good friends of Naime.\""
   ]
  },
  {
   "cell_type": "code",
   "execution_count": 80,
   "id": "cafa4d2a-fa3b-4c51-b653-3aa00571797a",
   "metadata": {},
   "outputs": [],
   "source": [
    "Naime=Naime()"
   ]
  },
  {
   "cell_type": "code",
   "execution_count": 82,
   "id": "7f734115-921c-48e1-a1ea-c419c91db49b",
   "metadata": {},
   "outputs": [
    {
     "data": {
      "text/plain": [
       "' Priyodorshon is a Friend of Naime with good sense of Fashion.'"
      ]
     },
     "execution_count": 82,
     "metadata": {},
     "output_type": "execute_result"
    }
   ],
   "source": [
    "Naime.Priyodorshon()"
   ]
  },
  {
   "cell_type": "code",
   "execution_count": 83,
   "id": "d67673f9-089c-49d3-a6ba-882eb9894536",
   "metadata": {},
   "outputs": [
    {
     "data": {
      "text/plain": [
       "' Simanto is a Friend of Naime with good sense of humor.'"
      ]
     },
     "execution_count": 83,
     "metadata": {},
     "output_type": "execute_result"
    }
   ],
   "source": [
    "Naime.Simanto()"
   ]
  },
  {
   "cell_type": "code",
   "execution_count": 84,
   "id": "c8e06341-c409-4a01-8d39-fb47bb73b4bb",
   "metadata": {},
   "outputs": [
    {
     "data": {
      "text/plain": [
       "'They both are good friends of Naime.'"
      ]
     },
     "execution_count": 84,
     "metadata": {},
     "output_type": "execute_result"
    }
   ],
   "source": [
    "Naime.relation()"
   ]
  },
  {
   "cell_type": "code",
   "execution_count": 85,
   "id": "6460721f-c7d7-4b69-8adf-db7484d9ab5c",
   "metadata": {},
   "outputs": [],
   "source": [
    "                      ### \"Answer to the question.no.04\"###"
   ]
  },
  {
   "cell_type": "code",
   "execution_count": 86,
   "id": "0b78d57e-fce7-4545-8c5c-49636e7563da",
   "metadata": {},
   "outputs": [],
   "source": [
    "### In Python, getters and setters are methods used to control the access and modification of instance variables (attributes) of a class. They provide a way to encapsulate the access and modification of class attributes, allowing you to enforce certain rules or validations when getting or setting their values.            "
   ]
  },
  {
   "cell_type": "code",
   "execution_count": 87,
   "id": "070612d6-e05c-4280-82d3-f2eec210766f",
   "metadata": {},
   "outputs": [],
   "source": [
    "class car:\n",
    "    def __init__(self,name, year, price, speed):\n",
    "        self.__name=name\n",
    "        self.__year=year\n",
    "        self.__price=price\n",
    "        self.__speed=speed\n",
    "    def set__speed(self,speed):\n",
    "        self.__speed=0 if speed<0 else speed\n",
    "    def get__speed(self):\n",
    "        return self.__speed"
   ]
  },
  {
   "cell_type": "code",
   "execution_count": 89,
   "id": "bee5be00-9d30-4358-8742-6b89fa8c25ee",
   "metadata": {},
   "outputs": [],
   "source": [
    "CAR=car(\"Buggati\",2023,\"5 million $\",350)"
   ]
  },
  {
   "cell_type": "code",
   "execution_count": 90,
   "id": "5ca4f2eb-5c20-4332-8008-931a38cd6641",
   "metadata": {},
   "outputs": [],
   "source": [
    "CAR.set__speed(650)"
   ]
  },
  {
   "cell_type": "code",
   "execution_count": 92,
   "id": "4c10e65b-34f2-421e-9756-55abd28321df",
   "metadata": {},
   "outputs": [
    {
     "data": {
      "text/plain": [
       "650"
      ]
     },
     "execution_count": 92,
     "metadata": {},
     "output_type": "execute_result"
    }
   ],
   "source": [
    "CAR.get__speed()"
   ]
  },
  {
   "cell_type": "code",
   "execution_count": null,
   "id": "6210abcc-9463-4899-85fc-ee779ff751b7",
   "metadata": {},
   "outputs": [],
   "source": [
    "                      ### \"Answer to the question.no.05\"###"
   ]
  },
  {
   "cell_type": "code",
   "execution_count": null,
   "id": "fe70f12a-22ac-4fa1-bf0c-a8ffb1d55b2b",
   "metadata": {},
   "outputs": [],
   "source": [
    "##Method overriding in Python is a concept related to object-oriented programming (OOP) that allows a subclass (derived class) to provide a specific implementation for a method that is already defined in its superclass (base class). In other words, the subclass can provide its own version of a method that has been inherited from the superclass.\n",
    "\n",
    "##When a subclass overrides a method from its superclass, it provides a new implementation for that method with the same name and parameters. This allows the subclass to tailor the behavior of the method to its specific needs while still maintaining the structure and interface provided by the superclass."
   ]
  },
  {
   "cell_type": "code",
   "execution_count": 101,
   "id": "7dd1e830-a2f1-4aaa-900d-ddd3cdd77b49",
   "metadata": {},
   "outputs": [],
   "source": [
    "import abc\n",
    "class ACS:\n",
    "        @abc.abstractmethod\n",
    "        def StudentID(self):\n",
    "            pass\n",
    "        @abc.abstractmethod\n",
    "        def EnrolledCourse(self):\n",
    "            pass\n",
    "        @abc.abstractmethod\n",
    "        def PAymentStatus(self):\n",
    "            pass\n",
    "            "
   ]
  },
  {
   "cell_type": "code",
   "execution_count": 102,
   "id": "cb5b69e8-f95e-4bb2-87a5-1caff3c5dfd4",
   "metadata": {},
   "outputs": [],
   "source": [
    "class Mun(ACS):\n",
    "    def StudentID(self):\n",
    "        return \"41121006\"\n",
    "    def EnrolledCourse(self):\n",
    "        return \"Political Science.\"\n",
    "    def PAymentStatus(self):\n",
    "        return \"Unpaid\""
   ]
  },
  {
   "cell_type": "code",
   "execution_count": 103,
   "id": "461f6afe-90cd-4fba-a976-ae45486911c3",
   "metadata": {},
   "outputs": [],
   "source": [
    "class Charles(ACS):\n",
    "    def StudentID(self):\n",
    "        return \"2303264\"\n",
    "    def EnrolledCourse(self):\n",
    "        return \"CSE\"\n",
    "    def PAymentStatus(self):\n",
    "        return \"Paid\"\n",
    "    "
   ]
  },
  {
   "cell_type": "code",
   "execution_count": 104,
   "id": "0d8b0ba0-3915-4970-9f6f-1470b6876a2f",
   "metadata": {},
   "outputs": [],
   "source": [
    "Charles=Charles()"
   ]
  },
  {
   "cell_type": "code",
   "execution_count": 105,
   "id": "fcd58221-a47e-4e74-a040-ebb9bdaedfbc",
   "metadata": {},
   "outputs": [],
   "source": [
    "Mun=Mun()"
   ]
  },
  {
   "cell_type": "code",
   "execution_count": 107,
   "id": "464910a9-f089-4bc3-9135-c35fd3b9bc90",
   "metadata": {},
   "outputs": [
    {
     "data": {
      "text/plain": [
       "'CSE'"
      ]
     },
     "execution_count": 107,
     "metadata": {},
     "output_type": "execute_result"
    }
   ],
   "source": [
    "Charles.EnrolledCourse()"
   ]
  },
  {
   "cell_type": "code",
   "execution_count": 108,
   "id": "10155ccf-57ca-465d-a2a6-2a863082bc1e",
   "metadata": {},
   "outputs": [
    {
     "data": {
      "text/plain": [
       "'2303264'"
      ]
     },
     "execution_count": 108,
     "metadata": {},
     "output_type": "execute_result"
    }
   ],
   "source": [
    "Charles.StudentID()"
   ]
  },
  {
   "cell_type": "code",
   "execution_count": null,
   "id": "a23ea863-76f6-4ca9-b52a-1d0a7231f267",
   "metadata": {},
   "outputs": [],
   "source": []
  }
 ],
 "metadata": {
  "kernelspec": {
   "display_name": "Python 3 (ipykernel)",
   "language": "python",
   "name": "python3"
  },
  "language_info": {
   "codemirror_mode": {
    "name": "ipython",
    "version": 3
   },
   "file_extension": ".py",
   "mimetype": "text/x-python",
   "name": "python",
   "nbconvert_exporter": "python",
   "pygments_lexer": "ipython3",
   "version": "3.10.8"
  }
 },
 "nbformat": 4,
 "nbformat_minor": 5
}
